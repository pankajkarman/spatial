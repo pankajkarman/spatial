{
 "cells": [
  {
   "cell_type": "code",
   "execution_count": 1,
   "id": "355da7db",
   "metadata": {},
   "outputs": [
    {
     "name": "stdout",
     "output_type": "stream",
     "text": [
      "autotime loaded.\n",
      "autotime loaded.\n",
      "black loaded.\n",
      "black loaded.\n",
      "time: 1.61 s\n"
     ]
    },
    {
     "data": {
      "application/javascript": [
       "\n",
       "            setTimeout(function() {\n",
       "                var nbb_cell_id = 1;\n",
       "                var nbb_unformatted_code = \"from init import *\\nimport salem\\nimport verde as vd\\nimport pyproj\\nfrom scipy.interpolate import griddata\\nfrom scipy.stats import linregress\";\n",
       "                var nbb_formatted_code = \"from init import *\\nimport salem\\nimport verde as vd\\nimport pyproj\\nfrom scipy.interpolate import griddata\\nfrom scipy.stats import linregress\";\n",
       "                var nbb_cells = Jupyter.notebook.get_cells();\n",
       "                for (var i = 0; i < nbb_cells.length; ++i) {\n",
       "                    if (nbb_cells[i].input_prompt_number == nbb_cell_id) {\n",
       "                        if (nbb_cells[i].get_text() == nbb_unformatted_code) {\n",
       "                             nbb_cells[i].set_text(nbb_formatted_code);\n",
       "                        }\n",
       "                        break;\n",
       "                    }\n",
       "                }\n",
       "            }, 500);\n",
       "            "
      ],
      "text/plain": [
       "<IPython.core.display.Javascript object>"
      ]
     },
     "metadata": {},
     "output_type": "display_data"
    }
   ],
   "source": [
    "from init import *\n",
    "import salem\n",
    "import verde as vd\n",
    "import pyproj\n",
    "from scipy.interpolate import griddata\n",
    "from scipy.stats import linregress"
   ]
  },
  {
   "cell_type": "code",
   "execution_count": 2,
   "id": "c7d70b3f",
   "metadata": {},
   "outputs": [
    {
     "name": "stdout",
     "output_type": "stream",
     "text": [
      "time: 1.68 ms\n"
     ]
    },
    {
     "data": {
      "application/javascript": [
       "\n",
       "            setTimeout(function() {\n",
       "                var nbb_cell_id = 2;\n",
       "                var nbb_unformatted_code = \"class IDW:\\n    def __init__(self, x, y, z):\\n        self.x = x\\n        self.y = y\\n        self.z = z\\n\\n    def interpolate(self, xi, yi):\\n        xi, yi = np.meshgrid(xi, yi)\\n        ny, nx = xi.shape\\n        xi, yi = xi.flatten(), yi.flatten()\\n        dist = self.distance_matrix(self.x, self.y, xi, yi)\\n        weights = 1.0 / dist\\n        weights /= weights.sum(axis=0)\\n        zi = np.dot(weights.T, self.z)\\n        return zi.reshape((ny, nx)).astype(\\\"float64\\\")\\n\\n    @staticmethod\\n    def distance_matrix(x0, y0, x1, y1):\\n        obs = np.vstack((x0, y0)).T\\n        interp = np.vstack((x1, y1)).T\\n        d0 = np.subtract.outer(obs[:, 0], interp[:, 0])\\n        d1 = np.subtract.outer(obs[:, 1], interp[:, 1])\\n        return np.hypot(d0, d1)\";\n",
       "                var nbb_formatted_code = \"class IDW:\\n    def __init__(self, x, y, z):\\n        self.x = x\\n        self.y = y\\n        self.z = z\\n\\n    def interpolate(self, xi, yi):\\n        xi, yi = np.meshgrid(xi, yi)\\n        ny, nx = xi.shape\\n        xi, yi = xi.flatten(), yi.flatten()\\n        dist = self.distance_matrix(self.x, self.y, xi, yi)\\n        weights = 1.0 / dist\\n        weights /= weights.sum(axis=0)\\n        zi = np.dot(weights.T, self.z)\\n        return zi.reshape((ny, nx)).astype(\\\"float64\\\")\\n\\n    @staticmethod\\n    def distance_matrix(x0, y0, x1, y1):\\n        obs = np.vstack((x0, y0)).T\\n        interp = np.vstack((x1, y1)).T\\n        d0 = np.subtract.outer(obs[:, 0], interp[:, 0])\\n        d1 = np.subtract.outer(obs[:, 1], interp[:, 1])\\n        return np.hypot(d0, d1)\";\n",
       "                var nbb_cells = Jupyter.notebook.get_cells();\n",
       "                for (var i = 0; i < nbb_cells.length; ++i) {\n",
       "                    if (nbb_cells[i].input_prompt_number == nbb_cell_id) {\n",
       "                        if (nbb_cells[i].get_text() == nbb_unformatted_code) {\n",
       "                             nbb_cells[i].set_text(nbb_formatted_code);\n",
       "                        }\n",
       "                        break;\n",
       "                    }\n",
       "                }\n",
       "            }, 500);\n",
       "            "
      ],
      "text/plain": [
       "<IPython.core.display.Javascript object>"
      ]
     },
     "metadata": {},
     "output_type": "display_data"
    }
   ],
   "source": [
    "class IDW:\n",
    "    def __init__(self, x, y, z):\n",
    "        self.x = x\n",
    "        self.y = y\n",
    "        self.z = z\n",
    "\n",
    "    def interpolate(self, xi, yi):\n",
    "        xi, yi = np.meshgrid(xi, yi)\n",
    "        ny, nx = xi.shape\n",
    "        xi, yi = xi.flatten(), yi.flatten()\n",
    "        dist = self.distance_matrix(self.x, self.y, xi, yi)\n",
    "        weights = 1.0 / dist\n",
    "        weights /= weights.sum(axis=0)\n",
    "        zi = np.dot(weights.T, self.z)\n",
    "        return zi.reshape((ny, nx)).astype(\"float64\")\n",
    "\n",
    "    @staticmethod\n",
    "    def distance_matrix(x0, y0, x1, y1):\n",
    "        obs = np.vstack((x0, y0)).T\n",
    "        interp = np.vstack((x1, y1)).T\n",
    "        d0 = np.subtract.outer(obs[:, 0], interp[:, 0])\n",
    "        d1 = np.subtract.outer(obs[:, 1], interp[:, 1])\n",
    "        return np.hypot(d0, d1)"
   ]
  },
  {
   "cell_type": "code",
   "execution_count": 3,
   "id": "dd4aa745",
   "metadata": {},
   "outputs": [
    {
     "name": "stdout",
     "output_type": "stream",
     "text": [
      "time: 2.69 ms\n"
     ]
    },
    {
     "data": {
      "application/javascript": [
       "\n",
       "            setTimeout(function() {\n",
       "                var nbb_cell_id = 3;\n",
       "                var nbb_unformatted_code = \"class RegularGrid(IDW):\\n    def __init__(self, x, y, z):\\n        super().__init__(x, y, z)\\n\\n    def interpolate(self, xi, yi, method=\\\"idw\\\"):\\n        if method == \\\"idw\\\":\\n            zi = self.idw_interpolate(xi, yi)\\n        if method == \\\"scipy\\\":\\n            zi = self.scipy_interpolate(xi, yi)\\n        if method == \\\"verde\\\":\\n            zi = self.verde_interpolate(xi, yi)\\n        zi = xr.DataArray(zi, coords=[xi, yi], dims=[\\\"Latitude\\\", \\\"Longitude\\\"])\\n        return zi\\n\\n    def idw_interpolate(self, xi, yi):\\n        zi = super().interpolate(xi, yi)\\n        return zi\\n\\n    def scipy_interpolate(self, xi, yi, method=\\\"linear\\\"):\\n        nx, ny = np.meshgrid(xi, yi)\\n        zi = griddata((self.x, self.y), self.z, (nx, ny), method=method)\\n        return zi\\n\\n    def verde_interpolate(self, xi, yi, method=\\\"cubic\\\"):\\n        spacing = xi[1] - xi[0]\\n        region = (np.min(xi), np.max(xi), np.min(yi), np.max(yi))\\n        coordinates = (self.x, self.y)\\n        projection = pyproj.Proj(proj=\\\"latlon\\\")\\n        proj_coordinates = projection(*coordinates)\\n\\n        grd = vd.ScipyGridder(method=method).fit(proj_coordinates, self.z)\\n        grid = grd.grid(\\n            region=region,\\n            spacing=spacing,\\n            projection=projection,\\n            dims=[\\\"Latitude\\\", \\\"Longitude\\\"],\\n            data_names=[\\\"mol\\\"],\\n        )\\n        return grid[\\\"mol\\\"].values\";\n",
       "                var nbb_formatted_code = \"class RegularGrid(IDW):\\n    def __init__(self, x, y, z):\\n        super().__init__(x, y, z)\\n\\n    def interpolate(self, xi, yi, method=\\\"idw\\\"):\\n        if method == \\\"idw\\\":\\n            zi = self.idw_interpolate(xi, yi)\\n        if method == \\\"scipy\\\":\\n            zi = self.scipy_interpolate(xi, yi)\\n        if method == \\\"verde\\\":\\n            zi = self.verde_interpolate(xi, yi)\\n        zi = xr.DataArray(zi, coords=[xi, yi], dims=[\\\"Latitude\\\", \\\"Longitude\\\"])\\n        return zi\\n\\n    def idw_interpolate(self, xi, yi):\\n        zi = super().interpolate(xi, yi)\\n        return zi\\n\\n    def scipy_interpolate(self, xi, yi, method=\\\"linear\\\"):\\n        nx, ny = np.meshgrid(xi, yi)\\n        zi = griddata((self.x, self.y), self.z, (nx, ny), method=method)\\n        return zi\\n\\n    def verde_interpolate(self, xi, yi, method=\\\"cubic\\\"):\\n        spacing = xi[1] - xi[0]\\n        region = (np.min(xi), np.max(xi), np.min(yi), np.max(yi))\\n        coordinates = (self.x, self.y)\\n        projection = pyproj.Proj(proj=\\\"latlon\\\")\\n        proj_coordinates = projection(*coordinates)\\n\\n        grd = vd.ScipyGridder(method=method).fit(proj_coordinates, self.z)\\n        grid = grd.grid(\\n            region=region,\\n            spacing=spacing,\\n            projection=projection,\\n            dims=[\\\"Latitude\\\", \\\"Longitude\\\"],\\n            data_names=[\\\"mol\\\"],\\n        )\\n        return grid[\\\"mol\\\"].values\";\n",
       "                var nbb_cells = Jupyter.notebook.get_cells();\n",
       "                for (var i = 0; i < nbb_cells.length; ++i) {\n",
       "                    if (nbb_cells[i].input_prompt_number == nbb_cell_id) {\n",
       "                        if (nbb_cells[i].get_text() == nbb_unformatted_code) {\n",
       "                             nbb_cells[i].set_text(nbb_formatted_code);\n",
       "                        }\n",
       "                        break;\n",
       "                    }\n",
       "                }\n",
       "            }, 500);\n",
       "            "
      ],
      "text/plain": [
       "<IPython.core.display.Javascript object>"
      ]
     },
     "metadata": {},
     "output_type": "display_data"
    }
   ],
   "source": [
    "class RegularGrid(IDW):\n",
    "    def __init__(self, x, y, z):\n",
    "        super().__init__(x, y, z)\n",
    "\n",
    "    def interpolate(self, xi, yi, method=\"idw\"):\n",
    "        if method == \"idw\":\n",
    "            zi = self.idw_interpolate(xi, yi)\n",
    "        if method == \"scipy\":\n",
    "            zi = self.scipy_interpolate(xi, yi)\n",
    "        if method == \"verde\":\n",
    "            zi = self.verde_interpolate(xi, yi)\n",
    "        return zi\n",
    "\n",
    "    def idw_interpolate(self, xi, yi):\n",
    "        zi = super().interpolate(xi, yi)\n",
    "        return zi\n",
    "\n",
    "    def scipy_interpolate(self, xi, yi, method=\"linear\"):\n",
    "        nx, ny = np.meshgrid(xi, yi)\n",
    "        zi = griddata((self.x, self.y), self.z, (nx, ny), method=method)\n",
    "        return zi\n",
    "\n",
    "    def verde_interpolate(self, xi, yi, method=\"cubic\"):\n",
    "        spacing = xi[1] - xi[0]\n",
    "        region = (np.min(xi), np.max(xi), np.min(yi), np.max(yi))\n",
    "        coordinates = (self.x, self.y)\n",
    "        projection = pyproj.Proj(proj=\"latlon\")\n",
    "        proj_coordinates = projection(*coordinates)\n",
    "\n",
    "        grd = vd.ScipyGridder(method=method).fit(proj_coordinates, self.z)\n",
    "        grid = grd.grid(\n",
    "            region=region,\n",
    "            spacing=spacing,\n",
    "            projection=projection,\n",
    "            dims=[\"Latitude\", \"Longitude\"],\n",
    "            data_names=[\"mol\"],\n",
    "        )\n",
    "        return grid[\"mol\"].values"
   ]
  },
  {
   "cell_type": "code",
   "execution_count": 4,
   "id": "d5aa6e18",
   "metadata": {},
   "outputs": [
    {
     "name": "stdout",
     "output_type": "stream",
     "text": [
      "time: 1 ms\n"
     ]
    },
    {
     "data": {
      "application/javascript": [
       "\n",
       "            setTimeout(function() {\n",
       "                var nbb_cell_id = 4;\n",
       "                var nbb_unformatted_code = \"months = {\\\"JF\\\": [2, 3], \\\"MAM\\\": [3, 4, 5], \\\"JJAS\\\": [6, 7, 8, 9], \\\"OND\\\": [10, 11, 12]}\\nseasons = {\\n    \\\"JF\\\": \\\"WINTER\\\",\\n    \\\"MAM\\\": \\\"PRE-MONSOON\\\",\\n    \\\"JJAS\\\": \\\"SUMMER\\\",\\n    \\\"OND\\\": \\\"POST-MONSOON\\\",\\n    \\\"Annual\\\": \\\"ANNUAL\\\",\\n}\\nperiods = [\\\"Annual\\\", \\\"JF\\\", \\\"JJAS\\\", \\\"MAM\\\", \\\"OND\\\"]\";\n",
       "                var nbb_formatted_code = \"months = {\\\"JF\\\": [2, 3], \\\"MAM\\\": [3, 4, 5], \\\"JJAS\\\": [6, 7, 8, 9], \\\"OND\\\": [10, 11, 12]}\\nseasons = {\\n    \\\"JF\\\": \\\"WINTER\\\",\\n    \\\"MAM\\\": \\\"PRE-MONSOON\\\",\\n    \\\"JJAS\\\": \\\"SUMMER\\\",\\n    \\\"OND\\\": \\\"POST-MONSOON\\\",\\n    \\\"Annual\\\": \\\"ANNUAL\\\",\\n}\\nperiods = [\\\"Annual\\\", \\\"JF\\\", \\\"JJAS\\\", \\\"MAM\\\", \\\"OND\\\"]\";\n",
       "                var nbb_cells = Jupyter.notebook.get_cells();\n",
       "                for (var i = 0; i < nbb_cells.length; ++i) {\n",
       "                    if (nbb_cells[i].input_prompt_number == nbb_cell_id) {\n",
       "                        if (nbb_cells[i].get_text() == nbb_unformatted_code) {\n",
       "                             nbb_cells[i].set_text(nbb_formatted_code);\n",
       "                        }\n",
       "                        break;\n",
       "                    }\n",
       "                }\n",
       "            }, 500);\n",
       "            "
      ],
      "text/plain": [
       "<IPython.core.display.Javascript object>"
      ]
     },
     "metadata": {},
     "output_type": "display_data"
    }
   ],
   "source": [
    "months = {\"JF\": [2, 3], \"MAM\": [3, 4, 5], \"JJAS\": [6, 7, 8, 9], \"OND\": [10, 11, 12]}\n",
    "seasons = {\n",
    "    \"JF\": \"WINTER\",\n",
    "    \"MAM\": \"PRE-MONSOON\",\n",
    "    \"JJAS\": \"SUMMER\",\n",
    "    \"OND\": \"POST-MONSOON\",\n",
    "    \"Annual\": \"ANNUAL\",\n",
    "}\n",
    "periods = [\"Annual\", \"JF\", \"JJAS\", \"MAM\", \"OND\"]"
   ]
  },
  {
   "cell_type": "code",
   "execution_count": 5,
   "id": "d39975c4",
   "metadata": {},
   "outputs": [
    {
     "name": "stderr",
     "output_type": "stream",
     "text": [
      "/home/pankaj/.local/Anaconda3/lib/python3.8/site-packages/xlrd/xlsx.py:266: DeprecationWarning: This method will be removed in future versions.  Use 'tree.iter()' or 'list(tree.iter())' instead.\n",
      "  for elem in self.tree.iter() if Element_has_iter else self.tree.getiterator():\n",
      "/home/pankaj/.local/Anaconda3/lib/python3.8/site-packages/xlrd/xlsx.py:312: DeprecationWarning: This method will be removed in future versions.  Use 'tree.iter()' or 'list(tree.iter())' instead.\n",
      "  for elem in self.tree.iter() if Element_has_iter else self.tree.getiterator():\n"
     ]
    },
    {
     "name": "stdout",
     "output_type": "stream",
     "text": [
      "time: 1.67 s\n"
     ]
    },
    {
     "data": {
      "application/javascript": [
       "\n",
       "            setTimeout(function() {\n",
       "                var nbb_cell_id = 5;\n",
       "                var nbb_unformatted_code = \"dx = pd.read_excel(\\n    \\\"/home/pankaj/phd/code/practice/sur/data/Rainfall_Data_Tripura_1986-2019_Final.xlsx\\\",\\n    parse_date=[\\\"Date\\\"],\\n).set_index(\\\"Date\\\")\\n\\nds1 = (\\n    pd.read_excel(\\\"/home/pankaj/phd/code/practice/sur/data/Stn_code_n_lat_lon.xlsx\\\")\\n    .set_index(\\\"Station_Code\\\")\\n    .sort_index()\\n)\\n\\n\\nds2 = pd.DataFrame(index=ds1.index, columns=periods)\\n\\nfor period in periods:\\n    if period == \\\"Annual\\\":\\n        df = dx.resample(\\\"A\\\").mean()\\n    else:\\n        df = dx.resample(\\\"M\\\").mean()\\n        df = df[np.isin(df.index.month, months[period])].resample(\\\"A\\\").mean()\\n\\n    for station in df.columns:\\n        ds2.loc[station, period] = linregress(df.index.year, df[station])[0]\\n\\nds = pd.concat([ds1, ds2], axis=1)\\n# ds\";\n",
       "                var nbb_formatted_code = \"dx = pd.read_excel(\\n    \\\"/home/pankaj/phd/code/practice/sur/data/Rainfall_Data_Tripura_1986-2019_Final.xlsx\\\",\\n    parse_date=[\\\"Date\\\"],\\n).set_index(\\\"Date\\\")\\n\\nds1 = (\\n    pd.read_excel(\\\"/home/pankaj/phd/code/practice/sur/data/Stn_code_n_lat_lon.xlsx\\\")\\n    .set_index(\\\"Station_Code\\\")\\n    .sort_index()\\n)\\n\\n\\nds2 = pd.DataFrame(index=ds1.index, columns=periods)\\n\\nfor period in periods:\\n    if period == \\\"Annual\\\":\\n        df = dx.resample(\\\"A\\\").mean()\\n    else:\\n        df = dx.resample(\\\"M\\\").mean()\\n        df = df[np.isin(df.index.month, months[period])].resample(\\\"A\\\").mean()\\n\\n    for station in df.columns:\\n        ds2.loc[station, period] = linregress(df.index.year, df[station])[0]\\n\\nds = pd.concat([ds1, ds2], axis=1)\\n# ds\";\n",
       "                var nbb_cells = Jupyter.notebook.get_cells();\n",
       "                for (var i = 0; i < nbb_cells.length; ++i) {\n",
       "                    if (nbb_cells[i].input_prompt_number == nbb_cell_id) {\n",
       "                        if (nbb_cells[i].get_text() == nbb_unformatted_code) {\n",
       "                             nbb_cells[i].set_text(nbb_formatted_code);\n",
       "                        }\n",
       "                        break;\n",
       "                    }\n",
       "                }\n",
       "            }, 500);\n",
       "            "
      ],
      "text/plain": [
       "<IPython.core.display.Javascript object>"
      ]
     },
     "metadata": {},
     "output_type": "display_data"
    }
   ],
   "source": [
    "dx = pd.read_excel(\n",
    "    \"/home/pankaj/phd/code/practice/sur/data/Rainfall_Data_Tripura_1986-2019_Final.xlsx\",\n",
    "    parse_date=[\"Date\"],\n",
    ").set_index(\"Date\")\n",
    "\n",
    "ds1 = (\n",
    "    pd.read_excel(\"/home/pankaj/phd/code/practice/sur/data/Stn_code_n_lat_lon.xlsx\")\n",
    "    .set_index(\"Station_Code\")\n",
    "    .sort_index()\n",
    ")\n",
    "\n",
    "\n",
    "ds2 = pd.DataFrame(index=ds1.index, columns=periods)\n",
    "\n",
    "for period in periods:\n",
    "    if period == \"Annual\":\n",
    "        df = dx.resample(\"A\").mean()\n",
    "    else:\n",
    "        df = dx.resample(\"M\").mean()\n",
    "        df = df[np.isin(df.index.month, months[period])].resample(\"A\").mean()\n",
    "\n",
    "    for station in df.columns:\n",
    "        ds2.loc[station, period] = linregress(df.index.year, df[station])[0]\n",
    "\n",
    "ds = pd.concat([ds1, ds2], axis=1)\n",
    "# ds"
   ]
  },
  {
   "cell_type": "code",
   "execution_count": 6,
   "id": "1162fdf7",
   "metadata": {},
   "outputs": [
    {
     "name": "stdout",
     "output_type": "stream",
     "text": [
      "(166,) (126,)\n",
      "time: 22.8 ms\n"
     ]
    },
    {
     "data": {
      "application/javascript": [
       "\n",
       "            setTimeout(function() {\n",
       "                var nbb_cell_id = 6;\n",
       "                var nbb_unformatted_code = \"shp = gpd.read_file(\\n    \\\"/home/pankaj/phd/code/practice/sur/data/shapefiles/tripura.shp\\\"\\n).to_crs(\\\"EPSG:4326\\\")\\nxi = np.arange(22.86, 24.52, 0.01)\\nyi = np.arange(91.12, 92.38, 0.01)\\nprint(xi.shape, yi.shape)\";\n",
       "                var nbb_formatted_code = \"shp = gpd.read_file(\\n    \\\"/home/pankaj/phd/code/practice/sur/data/shapefiles/tripura.shp\\\"\\n).to_crs(\\\"EPSG:4326\\\")\\nxi = np.arange(22.86, 24.52, 0.01)\\nyi = np.arange(91.12, 92.38, 0.01)\\nprint(xi.shape, yi.shape)\";\n",
       "                var nbb_cells = Jupyter.notebook.get_cells();\n",
       "                for (var i = 0; i < nbb_cells.length; ++i) {\n",
       "                    if (nbb_cells[i].input_prompt_number == nbb_cell_id) {\n",
       "                        if (nbb_cells[i].get_text() == nbb_unformatted_code) {\n",
       "                             nbb_cells[i].set_text(nbb_formatted_code);\n",
       "                        }\n",
       "                        break;\n",
       "                    }\n",
       "                }\n",
       "            }, 500);\n",
       "            "
      ],
      "text/plain": [
       "<IPython.core.display.Javascript object>"
      ]
     },
     "metadata": {},
     "output_type": "display_data"
    }
   ],
   "source": [
    "shp = gpd.read_file(\n",
    "    \"/home/pankaj/phd/code/practice/sur/data/shapefiles/tripura.shp\"\n",
    ").to_crs(\"EPSG:4326\")\n",
    "xi = np.arange(22.86, 24.52, 0.01)\n",
    "yi = np.arange(91.12, 92.38, 0.01)\n",
    "print(xi.shape, yi.shape)"
   ]
  },
  {
   "cell_type": "code",
   "execution_count": 7,
   "id": "1f513d40",
   "metadata": {},
   "outputs": [
    {
     "ename": "ValueError",
     "evalue": "conflicting sizes for dimension 'Latitude': length 166 on the data but length 126 on coordinate 'Latitude'",
     "output_type": "error",
     "traceback": [
      "\u001b[0;31m---------------------------------------------------------------------------\u001b[0m",
      "\u001b[0;31mValueError\u001b[0m                                Traceback (most recent call last)",
      "\u001b[0;32m<ipython-input-7-d0b4eb11e708>\u001b[0m in \u001b[0;36m<module>\u001b[0;34m\u001b[0m\n\u001b[1;32m      9\u001b[0m \u001b[0;32mfor\u001b[0m \u001b[0max\u001b[0m\u001b[0;34m,\u001b[0m \u001b[0mcolumn\u001b[0m \u001b[0;32min\u001b[0m \u001b[0mzip\u001b[0m\u001b[0;34m(\u001b[0m\u001b[0maxes\u001b[0m\u001b[0;34m,\u001b[0m \u001b[0mds2\u001b[0m\u001b[0;34m.\u001b[0m\u001b[0mcolumns\u001b[0m\u001b[0;34m[\u001b[0m\u001b[0;36m1\u001b[0m\u001b[0;34m:\u001b[0m\u001b[0;34m]\u001b[0m\u001b[0;34m)\u001b[0m\u001b[0;34m:\u001b[0m\u001b[0;34m\u001b[0m\u001b[0;34m\u001b[0m\u001b[0m\n\u001b[1;32m     10\u001b[0m     \u001b[0mreg\u001b[0m \u001b[0;34m=\u001b[0m \u001b[0mRegularGrid\u001b[0m\u001b[0;34m(\u001b[0m\u001b[0mds\u001b[0m\u001b[0;34m.\u001b[0m\u001b[0mLon\u001b[0m\u001b[0;34m.\u001b[0m\u001b[0mvalues\u001b[0m\u001b[0;34m,\u001b[0m \u001b[0mds\u001b[0m\u001b[0;34m.\u001b[0m\u001b[0mLat\u001b[0m\u001b[0;34m.\u001b[0m\u001b[0mvalues\u001b[0m\u001b[0;34m,\u001b[0m \u001b[0mds\u001b[0m\u001b[0;34m[\u001b[0m\u001b[0mcolumn\u001b[0m\u001b[0;34m]\u001b[0m\u001b[0;34m.\u001b[0m\u001b[0mvalues\u001b[0m\u001b[0;34m)\u001b[0m\u001b[0;34m\u001b[0m\u001b[0;34m\u001b[0m\u001b[0m\n\u001b[0;32m---> 11\u001b[0;31m     \u001b[0mzi\u001b[0m \u001b[0;34m=\u001b[0m \u001b[0mreg\u001b[0m\u001b[0;34m.\u001b[0m\u001b[0minterpolate\u001b[0m\u001b[0;34m(\u001b[0m\u001b[0myi\u001b[0m\u001b[0;34m,\u001b[0m \u001b[0mxi\u001b[0m\u001b[0;34m,\u001b[0m \u001b[0mmethod\u001b[0m\u001b[0;34m=\u001b[0m\u001b[0;34m\"idw\"\u001b[0m\u001b[0;34m)\u001b[0m\u001b[0;34m\u001b[0m\u001b[0;34m\u001b[0m\u001b[0m\n\u001b[0m\u001b[1;32m     12\u001b[0m \u001b[0;34m\u001b[0m\u001b[0m\n\u001b[1;32m     13\u001b[0m     \u001b[0mzi\u001b[0m \u001b[0;34m=\u001b[0m \u001b[0mzi\u001b[0m\u001b[0;34m.\u001b[0m\u001b[0msalem\u001b[0m\u001b[0;34m.\u001b[0m\u001b[0mroi\u001b[0m\u001b[0;34m(\u001b[0m\u001b[0mshape\u001b[0m\u001b[0;34m=\u001b[0m\u001b[0mshp\u001b[0m\u001b[0;34m)\u001b[0m  \u001b[0;31m# .T\u001b[0m\u001b[0;34m\u001b[0m\u001b[0;34m\u001b[0m\u001b[0m\n",
      "\u001b[0;32m<ipython-input-3-91ad6313f422>\u001b[0m in \u001b[0;36minterpolate\u001b[0;34m(self, xi, yi, method)\u001b[0m\n\u001b[1;32m     10\u001b[0m         \u001b[0;32mif\u001b[0m \u001b[0mmethod\u001b[0m \u001b[0;34m==\u001b[0m \u001b[0;34m\"verde\"\u001b[0m\u001b[0;34m:\u001b[0m\u001b[0;34m\u001b[0m\u001b[0;34m\u001b[0m\u001b[0m\n\u001b[1;32m     11\u001b[0m             \u001b[0mzi\u001b[0m \u001b[0;34m=\u001b[0m \u001b[0mself\u001b[0m\u001b[0;34m.\u001b[0m\u001b[0mverde_interpolate\u001b[0m\u001b[0;34m(\u001b[0m\u001b[0mxi\u001b[0m\u001b[0;34m,\u001b[0m \u001b[0myi\u001b[0m\u001b[0;34m)\u001b[0m\u001b[0;34m\u001b[0m\u001b[0;34m\u001b[0m\u001b[0m\n\u001b[0;32m---> 12\u001b[0;31m         \u001b[0mzi\u001b[0m \u001b[0;34m=\u001b[0m \u001b[0mxr\u001b[0m\u001b[0;34m.\u001b[0m\u001b[0mDataArray\u001b[0m\u001b[0;34m(\u001b[0m\u001b[0mzi\u001b[0m\u001b[0;34m,\u001b[0m \u001b[0mcoords\u001b[0m\u001b[0;34m=\u001b[0m\u001b[0;34m[\u001b[0m\u001b[0mxi\u001b[0m\u001b[0;34m,\u001b[0m \u001b[0myi\u001b[0m\u001b[0;34m]\u001b[0m\u001b[0;34m,\u001b[0m \u001b[0mdims\u001b[0m\u001b[0;34m=\u001b[0m\u001b[0;34m[\u001b[0m\u001b[0;34m\"Latitude\"\u001b[0m\u001b[0;34m,\u001b[0m \u001b[0;34m\"Longitude\"\u001b[0m\u001b[0;34m]\u001b[0m\u001b[0;34m)\u001b[0m\u001b[0;34m\u001b[0m\u001b[0;34m\u001b[0m\u001b[0m\n\u001b[0m\u001b[1;32m     13\u001b[0m         \u001b[0;32mreturn\u001b[0m \u001b[0mzi\u001b[0m\u001b[0;34m\u001b[0m\u001b[0;34m\u001b[0m\u001b[0m\n\u001b[1;32m     14\u001b[0m \u001b[0;34m\u001b[0m\u001b[0m\n",
      "\u001b[0;32m~/.local/Anaconda3/lib/python3.8/site-packages/xarray/core/dataarray.py\u001b[0m in \u001b[0;36m__init__\u001b[0;34m(self, data, coords, dims, name, attrs, indexes, fastpath)\u001b[0m\n\u001b[1;32m    342\u001b[0m             \u001b[0mdata\u001b[0m \u001b[0;34m=\u001b[0m \u001b[0m_check_data_shape\u001b[0m\u001b[0;34m(\u001b[0m\u001b[0mdata\u001b[0m\u001b[0;34m,\u001b[0m \u001b[0mcoords\u001b[0m\u001b[0;34m,\u001b[0m \u001b[0mdims\u001b[0m\u001b[0;34m)\u001b[0m\u001b[0;34m\u001b[0m\u001b[0;34m\u001b[0m\u001b[0m\n\u001b[1;32m    343\u001b[0m             \u001b[0mdata\u001b[0m \u001b[0;34m=\u001b[0m \u001b[0mas_compatible_data\u001b[0m\u001b[0;34m(\u001b[0m\u001b[0mdata\u001b[0m\u001b[0;34m)\u001b[0m\u001b[0;34m\u001b[0m\u001b[0;34m\u001b[0m\u001b[0m\n\u001b[0;32m--> 344\u001b[0;31m             \u001b[0mcoords\u001b[0m\u001b[0;34m,\u001b[0m \u001b[0mdims\u001b[0m \u001b[0;34m=\u001b[0m \u001b[0m_infer_coords_and_dims\u001b[0m\u001b[0;34m(\u001b[0m\u001b[0mdata\u001b[0m\u001b[0;34m.\u001b[0m\u001b[0mshape\u001b[0m\u001b[0;34m,\u001b[0m \u001b[0mcoords\u001b[0m\u001b[0;34m,\u001b[0m \u001b[0mdims\u001b[0m\u001b[0;34m)\u001b[0m\u001b[0;34m\u001b[0m\u001b[0;34m\u001b[0m\u001b[0m\n\u001b[0m\u001b[1;32m    345\u001b[0m             \u001b[0mvariable\u001b[0m \u001b[0;34m=\u001b[0m \u001b[0mVariable\u001b[0m\u001b[0;34m(\u001b[0m\u001b[0mdims\u001b[0m\u001b[0;34m,\u001b[0m \u001b[0mdata\u001b[0m\u001b[0;34m,\u001b[0m \u001b[0mattrs\u001b[0m\u001b[0;34m,\u001b[0m \u001b[0mfastpath\u001b[0m\u001b[0;34m=\u001b[0m\u001b[0;32mTrue\u001b[0m\u001b[0;34m)\u001b[0m\u001b[0;34m\u001b[0m\u001b[0;34m\u001b[0m\u001b[0m\n\u001b[1;32m    346\u001b[0m             indexes = dict(\n",
      "\u001b[0;32m~/.local/Anaconda3/lib/python3.8/site-packages/xarray/core/dataarray.py\u001b[0m in \u001b[0;36m_infer_coords_and_dims\u001b[0;34m(shape, coords, dims)\u001b[0m\n\u001b[1;32m    150\u001b[0m         \u001b[0;32mfor\u001b[0m \u001b[0md\u001b[0m\u001b[0;34m,\u001b[0m \u001b[0ms\u001b[0m \u001b[0;32min\u001b[0m \u001b[0mzip\u001b[0m\u001b[0;34m(\u001b[0m\u001b[0mv\u001b[0m\u001b[0;34m.\u001b[0m\u001b[0mdims\u001b[0m\u001b[0;34m,\u001b[0m \u001b[0mv\u001b[0m\u001b[0;34m.\u001b[0m\u001b[0mshape\u001b[0m\u001b[0;34m)\u001b[0m\u001b[0;34m:\u001b[0m\u001b[0;34m\u001b[0m\u001b[0;34m\u001b[0m\u001b[0m\n\u001b[1;32m    151\u001b[0m             \u001b[0;32mif\u001b[0m \u001b[0ms\u001b[0m \u001b[0;34m!=\u001b[0m \u001b[0msizes\u001b[0m\u001b[0;34m[\u001b[0m\u001b[0md\u001b[0m\u001b[0;34m]\u001b[0m\u001b[0;34m:\u001b[0m\u001b[0;34m\u001b[0m\u001b[0;34m\u001b[0m\u001b[0m\n\u001b[0;32m--> 152\u001b[0;31m                 raise ValueError(\n\u001b[0m\u001b[1;32m    153\u001b[0m                     \u001b[0;34m\"conflicting sizes for dimension %r: \"\u001b[0m\u001b[0;34m\u001b[0m\u001b[0;34m\u001b[0m\u001b[0m\n\u001b[1;32m    154\u001b[0m                     \u001b[0;34m\"length %s on the data but length %s on \"\u001b[0m\u001b[0;34m\u001b[0m\u001b[0;34m\u001b[0m\u001b[0m\n",
      "\u001b[0;31mValueError\u001b[0m: conflicting sizes for dimension 'Latitude': length 166 on the data but length 126 on coordinate 'Latitude'"
     ]
    },
    {
     "data": {
      "image/png": "[encoded data removed]",
      "text/plain": [
       "<Figure size 1584x1080 with 4 Axes>"
      ]
     },
     "metadata": {
      "needs_background": "light"
     },
     "output_type": "display_data"
    },
    {
     "name": "stdout",
     "output_type": "stream",
     "text": [
      "time: 527 ms\n"
     ]
    },
    {
     "data": {
      "application/javascript": [
       "\n",
       "            setTimeout(function() {\n",
       "                var nbb_cell_id = 7;\n",
       "                var nbb_unformatted_code = \"mn = []\\nmx = []\\n\\nx = ds.Lat.values\\ny = ds.Lon.values\\nlevels = np.linspace(-0.2, 0.1, 30)\\nfig, axes = plt.subplots(2, 2, figsize=(22, 15), sharex=True, sharey=True)\\naxes = axes.flatten()\\nfor ax, column in zip(axes, ds2.columns[1:]):\\n    reg = RegularGrid(ds.Lon.values, ds.Lat.values, ds[column].values)\\n    zi = reg.interpolate(yi, xi, method=\\\"idw\\\")\\n\\n    zi = zi.salem.roi(shape=shp)  # .T\\n    zi.attrs = {\\\"long_name\\\": \\\"%s Trend [mm/yr]\\\" % column}\\n\\n    mn.append(zi.min().values)\\n    mx.append(zi.max().values)\\n\\n    zi.plot(ax=ax, cmap=\\\"viridis\\\")\\n    ax.scatter(y, x, s=30, color=\\\"r\\\")\\n    ax.minorticks_on()\\n    # ax.axis('off')\\n    ax.set_title(seasons[column].capitalize(), y=0.93)\\n\\n    for i, idx in enumerate(ds1.index):\\n        ax.annotate(\\n            idx,\\n            xy=(ds1.Lon[i], ds1.Lat[i]),\\n            xytext=(ds1.Lon[i] - 0.01, ds1.Lat[i] - 0.07),\\n            fontsize=11,\\n        )\\n\\nfor ax in axes:\\n    ax.tick_params(\\n        axis=\\\"both\\\", which=\\\"major\\\", right=False, top=False, bottom=False, left=False\\n    )\\n    ax.tick_params(\\n        axis=\\\"both\\\", which=\\\"minor\\\", right=False, top=False, bottom=False, left=False\\n    )\\nplt.subplots_adjust(hspace=0.03)\\n# plt.savefig(\\\"../figs/tripura_idw_trend_seasonal.png\\\", bbox_inches=\\\"tight\\\")\\nplt.show()\";\n",
       "                var nbb_formatted_code = \"mn = []\\nmx = []\\n\\nx = ds.Lat.values\\ny = ds.Lon.values\\nlevels = np.linspace(-0.2, 0.1, 30)\\nfig, axes = plt.subplots(2, 2, figsize=(22, 15), sharex=True, sharey=True)\\naxes = axes.flatten()\\nfor ax, column in zip(axes, ds2.columns[1:]):\\n    reg = RegularGrid(ds.Lon.values, ds.Lat.values, ds[column].values)\\n    zi = reg.interpolate(yi, xi, method=\\\"idw\\\")\\n\\n    zi = zi.salem.roi(shape=shp)  # .T\\n    zi.attrs = {\\\"long_name\\\": \\\"%s Trend [mm/yr]\\\" % column}\\n\\n    mn.append(zi.min().values)\\n    mx.append(zi.max().values)\\n\\n    zi.plot(ax=ax, cmap=\\\"viridis\\\")\\n    ax.scatter(y, x, s=30, color=\\\"r\\\")\\n    ax.minorticks_on()\\n    # ax.axis('off')\\n    ax.set_title(seasons[column].capitalize(), y=0.93)\\n\\n    for i, idx in enumerate(ds1.index):\\n        ax.annotate(\\n            idx,\\n            xy=(ds1.Lon[i], ds1.Lat[i]),\\n            xytext=(ds1.Lon[i] - 0.01, ds1.Lat[i] - 0.07),\\n            fontsize=11,\\n        )\\n\\nfor ax in axes:\\n    ax.tick_params(\\n        axis=\\\"both\\\", which=\\\"major\\\", right=False, top=False, bottom=False, left=False\\n    )\\n    ax.tick_params(\\n        axis=\\\"both\\\", which=\\\"minor\\\", right=False, top=False, bottom=False, left=False\\n    )\\nplt.subplots_adjust(hspace=0.03)\\n# plt.savefig(\\\"../figs/tripura_idw_trend_seasonal.png\\\", bbox_inches=\\\"tight\\\")\\nplt.show()\";\n",
       "                var nbb_cells = Jupyter.notebook.get_cells();\n",
       "                for (var i = 0; i < nbb_cells.length; ++i) {\n",
       "                    if (nbb_cells[i].input_prompt_number == nbb_cell_id) {\n",
       "                        if (nbb_cells[i].get_text() == nbb_unformatted_code) {\n",
       "                             nbb_cells[i].set_text(nbb_formatted_code);\n",
       "                        }\n",
       "                        break;\n",
       "                    }\n",
       "                }\n",
       "            }, 500);\n",
       "            "
      ],
      "text/plain": [
       "<IPython.core.display.Javascript object>"
      ]
     },
     "metadata": {},
     "output_type": "display_data"
    }
   ],
   "source": [
    "mn = []\n",
    "mx = []\n",
    "\n",
    "x = ds.Lat.values\n",
    "y = ds.Lon.values\n",
    "levels = np.linspace(-0.2, 0.1, 30)\n",
    "fig, axes = plt.subplots(2, 2, figsize=(22, 15), sharex=True, sharey=True)\n",
    "axes = axes.flatten()\n",
    "for ax, column in zip(axes, ds2.columns[1:]):\n",
    "    reg = RegularGrid(ds.Lon.values, ds.Lat.values, ds[column].values)\n",
    "    zi = reg.interpolate(yi, xi, method=\"idw\")\n",
    "    zi = xr.DataArray(zi, coords=[xi, yi], dims=[\"Lat\", \"Lon\"])\n",
    "\n",
    "    zi = zi.salem.roi(shape=shp)  # .T\n",
    "    zi.attrs = {\"long_name\": \"%s Trend [mm/yr]\" % column}\n",
    "\n",
    "    mn.append(zi.min().values)\n",
    "    mx.append(zi.max().values)\n",
    "\n",
    "    zi.plot(ax=ax, cmap=\"viridis\")\n",
    "    ax.scatter(y, x, s=30, color=\"r\")\n",
    "    ax.minorticks_on()\n",
    "    # ax.axis('off')\n",
    "    ax.set_title(seasons[column].capitalize(), y=0.93)\n",
    "\n",
    "    for i, idx in enumerate(ds1.index):\n",
    "        ax.annotate(\n",
    "            idx,\n",
    "            xy=(ds1.Lon[i], ds1.Lat[i]),\n",
    "            xytext=(ds1.Lon[i] - 0.01, ds1.Lat[i] - 0.07),\n",
    "            fontsize=11,\n",
    "        )\n",
    "\n",
    "for ax in axes:\n",
    "    ax.tick_params(\n",
    "        axis=\"both\", which=\"major\", right=False, top=False, bottom=False, left=False\n",
    "    )\n",
    "    ax.tick_params(\n",
    "        axis=\"both\", which=\"minor\", right=False, top=False, bottom=False, left=False\n",
    "    )\n",
    "plt.subplots_adjust(hspace=0.03)\n",
    "# plt.savefig(\"../figs/tripura_idw_trend_seasonal.png\", bbox_inches=\"tight\")\n",
    "plt.show()"
   ]
  }
 ],
 "metadata": {
  "kernelspec": {
   "display_name": "Python 3",
   "language": "python",
   "name": "python3"
  },
  "language_info": {
   "codemirror_mode": {
    "name": "ipython",
    "version": 3
   },
   "file_extension": ".py",
   "mimetype": "text/x-python",
   "name": "python",
   "nbconvert_exporter": "python",
   "pygments_lexer": "ipython3",
   "version": "3.8.3"
  }
 },
 "nbformat": 4,
 "nbformat_minor": 5
}
